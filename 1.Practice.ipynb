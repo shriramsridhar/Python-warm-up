{
 "cells": [
  {
   "cell_type": "code",
   "execution_count": 6,
   "metadata": {},
   "outputs": [
    {
     "name": "stdout",
     "output_type": "stream",
     "text": [
      "(2, 4)\n",
      "8\n"
     ]
    }
   ],
   "source": [
    "#Exercise 1:\n",
    "import numpy as np\n",
    "x=np.array([14,21,24,24])\n",
    "y=np.array([12,6,23,29])\n",
    "z=np.array([x,y])\n",
    "print(z.shape)    #gives the no. of rows, columns\n",
    "print(z.size)    #gives total elements in a list\n"
   ]
  },
  {
   "cell_type": "code",
   "execution_count": 9,
   "metadata": {},
   "outputs": [
    {
     "name": "stdout",
     "output_type": "stream",
     "text": [
      "[0, 5, 5, 8, 10, 15]\n"
     ]
    }
   ],
   "source": [
    "#Exercise 2:\n",
    "p=[0,5,5,8,10,15]\n",
    "print(sorted(p,reverse=False))"
   ]
  },
  {
   "cell_type": "code",
   "execution_count": 10,
   "metadata": {},
   "outputs": [
    {
     "name": "stdout",
     "output_type": "stream",
     "text": [
      "[15, 15, 14, 9, 65]\n"
     ]
    }
   ],
   "source": [
    "#Exercise 3:\n",
    "y=[15,15,14,9]\n",
    "y.append(65)\n",
    "print(y)"
   ]
  },
  {
   "cell_type": "code",
   "execution_count": null,
   "metadata": {},
   "outputs": [],
   "source": []
  }
 ],
 "metadata": {
  "kernelspec": {
   "display_name": "Python 3",
   "language": "python",
   "name": "python3"
  },
  "language_info": {
   "codemirror_mode": {
    "name": "ipython",
    "version": 3
   },
   "file_extension": ".py",
   "mimetype": "text/x-python",
   "name": "python",
   "nbconvert_exporter": "python",
   "pygments_lexer": "ipython3",
   "version": "3.8.3"
  }
 },
 "nbformat": 4,
 "nbformat_minor": 4
}
