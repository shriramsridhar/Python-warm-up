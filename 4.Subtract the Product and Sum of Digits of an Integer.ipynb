{
 "cells": [
  {
   "cell_type": "code",
   "execution_count": 17,
   "metadata": {},
   "outputs": [
    {
     "name": "stdin",
     "output_type": "stream",
     "text": [
      "Enter a value:  234\n"
     ]
    },
    {
     "name": "stdout",
     "output_type": "stream",
     "text": [
      "The entered value is : 234\n",
      "Product of digits : 24\n",
      "Sum of digits : 9\n",
      "Result 24-9 is : 15\n"
     ]
    }
   ],
   "source": [
    "# Subtract the Product and Sum of Digits of an Integer\n",
    "a=input('Enter a value: ')\n",
    "b=1\n",
    "y=0\n",
    "for i in a:\n",
    "    c=int(i)\n",
    "    b=b*c\n",
    "for j in a:\n",
    "    x=int(j)\n",
    "    y=y+x\n",
    "print(\"The entered value is : \"+a)\n",
    "print(\"Product of digits : \"+str(b))\n",
    "print(\"Sum of digits : \"+str(y))\n",
    "print(\"Result \"+str(b)+\"-\"+str(y)+\" is : \"+str(b-y))\n",
    "    "
   ]
  },
  {
   "cell_type": "code",
   "execution_count": null,
   "metadata": {},
   "outputs": [],
   "source": []
  },
  {
   "cell_type": "code",
   "execution_count": null,
   "metadata": {},
   "outputs": [],
   "source": []
  }
 ],
 "metadata": {
  "kernelspec": {
   "display_name": "Python 3",
   "language": "python",
   "name": "python3"
  },
  "language_info": {
   "codemirror_mode": {
    "name": "ipython",
    "version": 3
   },
   "file_extension": ".py",
   "mimetype": "text/x-python",
   "name": "python",
   "nbconvert_exporter": "python",
   "pygments_lexer": "ipython3",
   "version": "3.8.3"
  }
 },
 "nbformat": 4,
 "nbformat_minor": 4
}
