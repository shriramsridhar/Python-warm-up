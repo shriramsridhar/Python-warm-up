{
 "cells": [
  {
   "cell_type": "markdown",
   "metadata": {},
   "source": [
    "## Unique Morse Code Words"
   ]
  },
  {
   "cell_type": "markdown",
   "metadata": {},
   "source": [
    "International Morse Code defines a standard encoding where each letter is mapped to a series of dots and dashes, as follows: \"a\" maps to \".-\", \"b\" maps to \"-...\", \"c\" maps to \"-.-.\", and so on.\n",
    "\n",
    "For convenience, the full table for the 26 letters of the English alphabet is given below:\n",
    "\n",
    "[\".-\",\"-...\",\"-.-.\",\"-..\",\".\",\"..-.\",\"--.\",\"....\",\"..\",\".---\",\"-.-\",\".-..\",\"--\",\"-.\",\"---\",\".--.\",\"--.-\",\".-.\",\"...\",\"-\",\"..-\",\"...-\",\".--\",\"-..-\",\"-.--\",\"--..\"]\n",
    "Now, given a list of words, each word can be written as a concatenation of the Morse code of each letter. For example, \"cab\" can be written as \"-.-..--...\", (which is the concatenation \"-.-.\" + \".-\" + \"-...\"). We'll call such a concatenation, the transformation of a word.\n",
    "\n",
    "Return the number of different transformations among all words we have.\n",
    "\n",
    "Example:\n",
    "Input: words = [\"gin\", \"zen\", \"gig\", \"msg\"]\n",
    "Output: 2\n",
    "Explanation: \n",
    "The transformation of each word is:\n",
    "\"gin\" -> \"--...-.\"\n",
    "\"zen\" -> \"--...-.\"\n",
    "\"gig\" -> \"--...--.\"\n",
    "\"msg\" -> \"--...--.\"\n",
    "\n",
    "There are 2 different transformations, \"--...-.\" and \"--...--.\".\n",
    "Note:\n",
    "\n",
    "The length of words will be at most 100.\n",
    "Each words[i] will have length in range [1, 12].\n",
    "words[i] will only consist of lowercase letters."
   ]
  },
  {
   "cell_type": "code",
   "execution_count": 1,
   "metadata": {},
   "outputs": [
    {
     "name": "stdin",
     "output_type": "stream",
     "text": [
      "Enter string :  SHRIRAM\n"
     ]
    },
    {
     "name": "stdout",
     "output_type": "stream",
     "text": [
      "........-....-..---"
     ]
    }
   ],
   "source": [
    "code={\n",
    "\"a\":\".-\",\n",
    "\"b\":\"-...\",\n",
    "\"c\":\"-.-.\",\n",
    "\"d\":\"-..\",\n",
    "\"e\":\".\",\n",
    "\"f\":\"..-.\",\n",
    "\"g\":\"--.\",\n",
    "\"h\":\"....\",\n",
    "\"i\":\"..\",\n",
    "\"j\":\".---\",\n",
    "\"k\":\"-.-\",\n",
    "\"l\":\".-..\",\n",
    "\"m\":\"--\",\n",
    "\"n\":\"-.\",\n",
    "\"o\":\"---\",\n",
    "\"p\":\".--.\",\n",
    "\"q\":\"--.-\",\n",
    "\"r\":\".-.\",\n",
    "\"s\":\"...\",\n",
    "\"t\":\"-\",\n",
    "\"u\":\"..-\",\n",
    "\"v\":\"...-\",\n",
    "\"w\":\".--\",\n",
    "\"x\":\"-..-\",\n",
    "\"y\":\"-.--\",\n",
    "\"z\":\"--..\"\n",
    "}\n",
    "i_p=input(\"Enter string : \")\n",
    "i_p=i_p.lower()\n",
    "for i in i_p:\n",
    "    print(code[i],end='')\n"
   ]
  },
  {
   "cell_type": "code",
   "execution_count": null,
   "metadata": {},
   "outputs": [],
   "source": []
  }
 ],
 "metadata": {
  "kernelspec": {
   "display_name": "Python 3",
   "language": "python",
   "name": "python3"
  },
  "language_info": {
   "codemirror_mode": {
    "name": "ipython",
    "version": 3
   },
   "file_extension": ".py",
   "mimetype": "text/x-python",
   "name": "python",
   "nbconvert_exporter": "python",
   "pygments_lexer": "ipython3",
   "version": "3.8.3"
  }
 },
 "nbformat": 4,
 "nbformat_minor": 4
}
