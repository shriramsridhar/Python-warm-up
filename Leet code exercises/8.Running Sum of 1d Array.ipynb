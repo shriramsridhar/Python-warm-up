{
 "cells": [
  {
   "cell_type": "code",
   "execution_count": 1,
   "metadata": {},
   "outputs": [
    {
     "name": "stdin",
     "output_type": "stream",
     "text": [
      "Enter range :  5\n",
      " 3\n",
      " 1\n",
      " 2\n",
      " 10\n",
      " 1\n"
     ]
    },
    {
     "name": "stdout",
     "output_type": "stream",
     "text": [
      "The list is : [3, 1, 2, 10, 1]\n",
      "The sum of 1d array is :  [3, 4, 6, 16, 17]\n"
     ]
    }
   ],
   "source": [
    "#Running Sum of 1d Array\n",
    "list=[]\n",
    "new_list=[]\n",
    "ran=int(input(\"Enter range : \"))\n",
    "for i in range(ran):\n",
    "    l_ip=int(input())\n",
    "    list.append(l_ip)\n",
    "print(\"The list is :\",list)\n",
    "l_len=len(list)\n",
    "c=0\n",
    "for x in range(l_len):\n",
    "    \n",
    "    #print(list[x])\n",
    "    c=c+list[x]\n",
    "    new_list.append(c)\n",
    "print(\"The sum of 1d array is : \",new_list)   "
   ]
  },
  {
   "cell_type": "code",
   "execution_count": null,
   "metadata": {},
   "outputs": [],
   "source": []
  }
 ],
 "metadata": {
  "kernelspec": {
   "display_name": "Python 3",
   "language": "python",
   "name": "python3"
  },
  "language_info": {
   "codemirror_mode": {
    "name": "ipython",
    "version": 3
   },
   "file_extension": ".py",
   "mimetype": "text/x-python",
   "name": "python",
   "nbconvert_exporter": "python",
   "pygments_lexer": "ipython3",
   "version": "3.8.3"
  }
 },
 "nbformat": 4,
 "nbformat_minor": 4
}
