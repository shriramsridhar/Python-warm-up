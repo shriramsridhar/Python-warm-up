{
 "cells": [
  {
   "cell_type": "code",
   "execution_count": 1,
   "metadata": {},
   "outputs": [
    {
     "name": "stdin",
     "output_type": "stream",
     "text": [
      "Enter a value :  8\n"
     ]
    },
    {
     "name": "stdout",
     "output_type": "stream",
     "text": [
      "Enter list one by one : \n"
     ]
    },
    {
     "name": "stdin",
     "output_type": "stream",
     "text": [
      " 123\n",
      " 45\n",
      " 89\n",
      " 1256\n",
      " 741\n",
      " 69875\n",
      " 1236548\n",
      " 54\n"
     ]
    },
    {
     "name": "stdout",
     "output_type": "stream",
     "text": [
      "123 contains 3 digits (odd number of digits)\n",
      "45 contains 2 digits (even number of digits)\n",
      "89 contains 2 digits (even number of digits)\n",
      "1256 contains 4 digits (even number of digits)\n",
      "741 contains 3 digits (odd number of digits)\n",
      "69875 contains 5 digits (odd number of digits)\n",
      "1236548 contains 7 digits (odd number of digits)\n",
      "54 contains 2 digits (even number of digits)\n",
      "Total even numbers : 4\n"
     ]
    }
   ],
   "source": [
    "#Find number with even nnumber of digits\n",
    "a=[]\n",
    "ran=int(input(\"Enter a value : \"))\n",
    "print(\"Enter list one by one : \")\n",
    "count=0\n",
    "for i in range(ran):\n",
    "    b=int(input())\n",
    "    a.append(b)\n",
    "    \n",
    "for i in a:\n",
    "    l=len(str(i))\n",
    "    \n",
    "    if l%2==0:\n",
    "        print(str(i)+\" contains \"+str(l)+ \" digits\"+\" (even number of digits)\")\n",
    "        count+=1\n",
    "    else:\n",
    "        print(str(i)+\" contains \"+str(l)+ \" digits\"+\" (odd number of digits)\")\n",
    "print(\"Total even numbers : \"+str(count))"
   ]
  },
  {
   "cell_type": "code",
   "execution_count": null,
   "metadata": {},
   "outputs": [],
   "source": []
  }
 ],
 "metadata": {
  "kernelspec": {
   "display_name": "Python 3",
   "language": "python",
   "name": "python3"
  },
  "language_info": {
   "codemirror_mode": {
    "name": "ipython",
    "version": 3
   },
   "file_extension": ".py",
   "mimetype": "text/x-python",
   "name": "python",
   "nbconvert_exporter": "python",
   "pygments_lexer": "ipython3",
   "version": "3.8.3"
  }
 },
 "nbformat": 4,
 "nbformat_minor": 4
}
